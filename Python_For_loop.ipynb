{
 "cells": [
  {
   "cell_type": "markdown",
   "id": "35c77f88-f73b-43b1-900a-890caf305915",
   "metadata": {},
   "source": [
    "### **Basic Level:**"
   ]
  },
  {
   "cell_type": "markdown",
   "id": "795546e0-3873-422f-8952-49ff35f79a3d",
   "metadata": {},
   "source": [
    "### 1. Write a Python program to print the numbers from 1 to 10 using a `for` loop."
   ]
  },
  {
   "cell_type": "code",
   "execution_count": 1,
   "id": "97e3a5fe-dca8-427f-9e8b-dd921ace2641",
   "metadata": {},
   "outputs": [
    {
     "name": "stdout",
     "output_type": "stream",
     "text": [
      "1\n",
      "2\n",
      "3\n",
      "4\n",
      "5\n",
      "6\n",
      "7\n",
      "8\n",
      "9\n",
      "10\n"
     ]
    }
   ],
   "source": [
    "# Using a for loop to iterate over a range of numbers from 1 to 10\n",
    "for i in range(1, 11):\n",
    "    # Printing the current value of the loop variable 'i'\n",
    "    print(i)"
   ]
  },
  {
   "cell_type": "markdown",
   "id": "ef5947e3-8821-45d9-881b-c688a39b9221",
   "metadata": {},
   "source": [
    "- `for i in range(1, 11):` This line initiates a `for` loop, where `i` is a loop variable that takes values from 1 to 10 (inclusive).\n",
    "- `range(1, 11)` generates a sequence of numbers starting from 1 up to, but not including, 11.\n",
    "- `print(i)` Inside the loop, this line prints the current value of the loop variable i on each iteration.\n",
    "- As the loop iterates from 1 to 10, it prints the numbers one by one."
   ]
  },
  {
   "cell_type": "markdown",
   "id": "a9f7509e-c85c-4e50-a2fe-460205442f21",
   "metadata": {},
   "source": [
    "### 2. Create a program that calculates the sum of all numbers in a list using a `for` loop."
   ]
  },
  {
   "cell_type": "code",
   "execution_count": 9,
   "id": "65f7d648-2523-45d9-ae77-9f3cabdf008f",
   "metadata": {},
   "outputs": [
    {
     "name": "stdout",
     "output_type": "stream",
     "text": [
      "Sum: 25\n"
     ]
    }
   ],
   "source": [
    "# Sample list of numbers\n",
    "numbers = [3, 7, 1, 5, 9]\n",
    "\n",
    "# Initialize a variable to store the sum\n",
    "sum_result = 0\n",
    "\n",
    "# Using a for loop to iterate over each element in the list\n",
    "for num in numbers:\n",
    "    # Add the current number to the sum\n",
    "    sum_result += num\n",
    "\n",
    "# Print the final sum\n",
    "print(\"Sum:\", sum_result)"
   ]
  },
  {
   "cell_type": "markdown",
   "id": "24c15986-4766-4a43-91d7-ccbff248c602",
   "metadata": {},
   "source": [
    "- `numbers = [3, 7, 1, 5, 9]` This line creates a sample list called numbers containing some numerical values.\n",
    "- `sum_result = 0`Initializes a variable `sum_result` to store the sum of the numbers. It starts with an initial value of 0.\n",
    "- `for num in numbers:`Initiates a for loop that iterates over each element `(num)` in the numbers list.\n",
    " `sum_result += num` Inside the loop, adds the current number `(num)` to the running sum.\n",
    "- `print(\"Sum:\", sum_result)`After the loop, prints the final sum calculated from the elements in the list."
   ]
  },
  {
   "cell_type": "markdown",
   "id": "fdbfe30c-4fa3-4753-8fc2-1d0f3a955261",
   "metadata": {},
   "source": [
    "### 3. Write a program to print the characters of a string in reverse order using a `for` loop."
   ]
  },
  {
   "cell_type": "code",
   "execution_count": 13,
   "id": "5ca6a6aa-5ce0-4bf4-8bca-b535a0924250",
   "metadata": {},
   "outputs": [
    {
     "name": "stdout",
     "output_type": "stream",
     "text": [
      "n a j a R \n"
     ]
    }
   ],
   "source": [
    "# Sample string\n",
    "input_string = \"Rajan\"\n",
    "\n",
    "# Using a for loop to iterate over the string in reverse order\n",
    "for char in reversed(input_string):\n",
    "    # Printing each character\n",
    "    print(char, end=\" \")\n",
    "\n",
    "# Optional: Print a newline for better formatting\n",
    "print()"
   ]
  },
  {
   "cell_type": "markdown",
   "id": "9da5ea8f-d7f0-4c3f-b4f7-59d81dda7504",
   "metadata": {},
   "source": [
    "- input_string = \"Rajan\"This line creates a sample string called input_string with the value \"Rajan\".\n",
    "- for char in reversed(input_string):Initiates a for loop that iterates over each character (char) in the input_string, but in reverse order.\n",
    "- reversed(input_string) is used to reverse the order of the characters.\n",
    "- print(char, end=\"\")Inside the loop, prints each character without adding a newline character (end=\"\" is used to achieve this).\n",
    "- This ensures that the characters are printed on the same line.\n",
    "- print()"
   ]
  },
  {
   "cell_type": "markdown",
   "id": "1b8024a2-8059-43ea-88d6-92b0a6227503",
   "metadata": {},
   "source": [
    "### 4. Develop a program that finds the factorial of a given number using a `for` loop."
   ]
  },
  {
   "cell_type": "code",
   "execution_count": 17,
   "id": "9eb7abab-e8c7-4854-b867-2542a564a45a",
   "metadata": {},
   "outputs": [
    {
     "name": "stdin",
     "output_type": "stream",
     "text": [
      "Enter a number:  5\n"
     ]
    },
    {
     "name": "stdout",
     "output_type": "stream",
     "text": [
      "Factorial of 5 is: 120\n"
     ]
    }
   ],
   "source": [
    "# Function to calculate the factorial of a number\n",
    "def factorial(n):\n",
    "    # Initialize the result to 1\n",
    "    result = 1\n",
    "\n",
    "    # Using a for loop to multiply numbers from 1 to n\n",
    "    for i in range(1, n + 1):\n",
    "        result *= i\n",
    "\n",
    "    return result\n",
    "\n",
    "# Input: the number for which factorial needs to be calculated\n",
    "number = int(input(\"Enter a number: \"))\n",
    "\n",
    "# Calculate and print the factorial\n",
    "print(\"Factorial of\", number, \"is:\", factorial(number))"
   ]
  },
  {
   "cell_type": "markdown",
   "id": "958acbd4-3429-4d56-82e0-9bf3b7f7c37e",
   "metadata": {},
   "source": [
    "- def factorial(n): This line defines a function named factorial that takes a parameter n.\n",
    "\n",
    "- result = 1 Initializes a variable result to store the factorial. It starts with an initial value of 1.\n",
    "\n",
    "- for i in range(1, n + 1): Initiates a for loop that iterates from 1 to n (inclusive).\n",
    "\n",
    "- result *= iInside the loop, multiplies the current loop variable i with the running result to accumulate the factorial.\n",
    "\n",
    "- return result Returns the final factorial value calculated.\n",
    "\n",
    "- number = int(input(\"Enter a number: \")) Takes user input for the number for which the factorial needs to be calculated.\n",
    "\n",
    "- print(\"Factorial of\", number, \"is:\", factorial(number)) Calls the factorial function with the user-input number and prints the result."
   ]
  },
  {
   "cell_type": "markdown",
   "id": "7db46e06-11de-48c3-9deb-f0ec9147354b",
   "metadata": {},
   "source": [
    "### 5. Create a program to print the multiplication table of a given number using a `for` loop."
   ]
  },
  {
   "cell_type": "code",
   "execution_count": 25,
   "id": "3bf38cd2-dff8-4a63-8585-36e544fbdca4",
   "metadata": {},
   "outputs": [
    {
     "name": "stdin",
     "output_type": "stream",
     "text": [
      "Enter a number:  8\n"
     ]
    },
    {
     "name": "stdout",
     "output_type": "stream",
     "text": [
      "Multiplication Table for 8:\n",
      "8 x 1 = 8\n",
      "8 x 2 = 16\n",
      "8 x 3 = 24\n",
      "8 x 4 = 32\n",
      "8 x 5 = 40\n",
      "8 x 6 = 48\n",
      "8 x 7 = 56\n",
      "8 x 8 = 64\n",
      "8 x 9 = 72\n",
      "8 x 10 = 80\n"
     ]
    }
   ],
   "source": [
    "# Function to print the multiplication table of a given number\n",
    "def multiplication_table(number):\n",
    "    print(f\"Multiplication Table for {number}:\")\n",
    "\n",
    "    # Using a for loop to iterate from 1 to 10\n",
    "    for i in range(1, 11):\n",
    "        multi = number * i\n",
    "        print(f\"{number} x {i} = {multi}\")\n",
    "\n",
    "# Input: the number for which the multiplication table needs to be printed\n",
    "number = int(input(\"Enter a number: \"))\n",
    "\n",
    "# Call the function to print the multiplication table\n",
    "multiplication_table(number)"
   ]
  },
  {
   "cell_type": "markdown",
   "id": "6df37888-f66d-4d69-947d-d18eed29014b",
   "metadata": {},
   "source": [
    "- def multiplication_table(number): This line defines a function named multiplication_table that takes a parameter number.\n",
    "- print(f\"Multiplication Table for {number}:\") Prints a header indicating the multiplication table for the given number.\n",
    "- for i in range(1, 11): Initiates a for loop that iterates from 1 to 10 (inclusive), representing the multipliers in the multiplication table.\n",
    "- multi = number * i Calculates the product of the given number and the current multiplier i.\n",
    "- print(f\"{number} x {i} = {multi}\") Prints each multiplication expression and its result in a formatted way.\n",
    "- number = int(input(\"Enter a number: \")) Takes user input for the number for which the multiplication table needs to be printed.\n",
    "- multiplication_table(number) Calls the multiplication_table function with the user-input number to print the multiplication table."
   ]
  },
  {
   "cell_type": "markdown",
   "id": "1bcdeedc-5771-4815-9b91-371332ba4e8d",
   "metadata": {},
   "source": [
    "### 6. Write a program that counts the number of even and odd numbers in a list using a `for` loop."
   ]
  },
  {
   "cell_type": "code",
   "execution_count": 28,
   "id": "6612fd5f-da65-47e2-9635-e2471cda8b49",
   "metadata": {},
   "outputs": [
    {
     "name": "stdout",
     "output_type": "stream",
     "text": [
      "Number of even numbers: 5\n",
      "Number of odd numbers: 3\n"
     ]
    }
   ],
   "source": [
    "# Sample list of numbers\n",
    "numbers = [2, 7, 14, 5, 8, 10, 3, 6]\n",
    "\n",
    "# Initialize counters for even and odd numbers\n",
    "even_count = 0\n",
    "odd_count = 0\n",
    "\n",
    "# Using a for loop to iterate over each element in the list\n",
    "for num in numbers:\n",
    "    # Check if the number is even or odd\n",
    "    if num % 2 == 0:\n",
    "        even_count += 1\n",
    "    else:\n",
    "        odd_count += 1\n",
    "\n",
    "# Print the results\n",
    "print(\"Number of even numbers:\", even_count)\n",
    "print(\"Number of odd numbers:\", odd_count)"
   ]
  },
  {
   "cell_type": "markdown",
   "id": "96a3b92b-171f-49fc-9c76-bd7af4a7fd78",
   "metadata": {},
   "source": [
    "- numbers = [2, 7, 14, 5, 8, 10, 3, 6] This line creates a sample list called numbers containing some numerical values.\n",
    "\n",
    "- even_count = 0 and odd_count = 0 Initialize counters for even and odd numbers, both starting with a value of 0.\n",
    "\n",
    "- for num in numbers: Initiates a for loop that iterates over each element (num) in the numbers list.\n",
    "\n",
    "- if num % 2 == 0: Inside the loop, checks if the current number is even by using the modulo operator (%).\n",
    "\n",
    "- even_count += 1 and odd_count += 1 Increments the respective counters based on whether the current number is even or odd.\n",
    "- print(\"Number of even numbers:\", even_count) and print(\"Number of odd numbers:\", odd_count) Prints the final counts of even and odd numbers after the loop."
   ]
  },
  {
   "cell_type": "markdown",
   "id": "b3665342-aeb3-4757-9e83-0ee1ac79e834",
   "metadata": {},
   "source": [
    "### 7. Develop a program that prints the squares of numbers from 1 to 5 using a `for` loop."
   ]
  },
  {
   "cell_type": "code",
   "execution_count": 30,
   "id": "6dfa9c04-9962-4e3d-95bf-e0713e76ba9f",
   "metadata": {},
   "outputs": [
    {
     "name": "stdout",
     "output_type": "stream",
     "text": [
      "The square of 1 is: 1\n",
      "The square of 2 is: 4\n",
      "The square of 3 is: 9\n",
      "The square of 4 is: 16\n",
      "The square of 5 is: 25\n"
     ]
    }
   ],
   "source": [
    "# Using a for loop to iterate over numbers from 1 to 5\n",
    "for i in range(1, 6):\n",
    "    # Calculate the square of the current number\n",
    "    square = i ** 2\n",
    "\n",
    "    # Print the square\n",
    "    print(f\"The square of {i} is: {square}\")"
   ]
  },
  {
   "cell_type": "markdown",
   "id": "a94630f9-cf34-4687-a6eb-6e0a2879485b",
   "metadata": {},
   "source": [
    "- for i in range(1, 6): This line initiates a for loop that iterates over numbers from 1 to 5 (range(1, 6)).\n",
    "- square = i ** 2 Inside the loop, calculates the square of the current number i using the exponentiation operator (**).\n",
    "- print(f\"The square of {i} is: {square}\") Prints the result in a formatted string, indicating the original number and its square."
   ]
  },
  {
   "cell_type": "markdown",
   "id": "89a3aaab-03ad-439e-a063-1a02bc14522d",
   "metadata": {},
   "source": [
    "### 8. Create a program to find the length of a string without using the `len()` function."
   ]
  },
  {
   "cell_type": "code",
   "execution_count": 31,
   "id": "c3dc3769-979a-43b4-b92a-bdf51f21397e",
   "metadata": {},
   "outputs": [
    {
     "name": "stdin",
     "output_type": "stream",
     "text": [
      "Enter a string:  Rajan\n"
     ]
    },
    {
     "name": "stdout",
     "output_type": "stream",
     "text": [
      "Length of the string: 5\n"
     ]
    }
   ],
   "source": [
    "# Function to find the length of a string without using len()\n",
    "def find_string_length(input_string):\n",
    "    length = 0\n",
    "\n",
    "    # Using a for loop to iterate through each character in the string\n",
    "    for char in input_string:\n",
    "        length += 1\n",
    "\n",
    "    return length\n",
    "\n",
    "# Input: the string for which length needs to be calculated\n",
    "user_input = input(\"Enter a string: \")\n",
    "\n",
    "# Call the function to find the length and print the result\n",
    "print(\"Length of the string:\", find_string_length(user_input))"
   ]
  },
  {
   "cell_type": "markdown",
   "id": "1338695a-c068-4f61-823b-aeb377d581d7",
   "metadata": {},
   "source": [
    "- def find_string_length(input_string): This line defines a function named find_string_length that takes a parameter input_string.\n",
    "- length = 0 Initializes a variable length to store the length of the string. It starts with an initial value of 0.\n",
    "- for char in input_string: Initiates a for loop that iterates through each character (char) in the input_string.\n",
    "- length += 1 Inside the loop, increments the length variable for each character encountered.\n",
    "- return length Returns the final length of the string calculated.\n",
    "- user_input = input(\"Enter a string: \")Takes user input for the string for which the length needs to be calculated.\n",
    "- print(\"Length of the string:\", find_string_length(user_input)) Calls the find_string_length function with the user-input string and prints the result."
   ]
  },
  {
   "cell_type": "markdown",
   "id": "66695d5e-1e6f-42b5-99ba-e52f98ad234a",
   "metadata": {},
   "source": [
    "### 9. Write a program that calculates the average of a list of numbers using a `for` loop."
   ]
  },
  {
   "cell_type": "code",
   "execution_count": 36,
   "id": "ab453e11-866c-4b98-ba14-83b1692884b3",
   "metadata": {},
   "outputs": [
    {
     "name": "stdout",
     "output_type": "stream",
     "text": [
      "Average of the numbers: 8.5\n"
     ]
    }
   ],
   "source": [
    "# list of numbers\n",
    "numbers = [5, 12, 8, 16, 3, 7]\n",
    "\n",
    "# Initialize variables for sum and count\n",
    "sum_numbers = 0\n",
    "count = 0\n",
    "\n",
    "# Using a for loop to iterate over each element in the list\n",
    "for num in numbers:\n",
    "    # Add the current number to the sum\n",
    "    sum_numbers += num\n",
    "    # Increment the count\n",
    "    count += 1\n",
    "\n",
    "# Calculate the average\n",
    "average = sum_numbers / count\n",
    "\n",
    "# Print the result\n",
    "print(\"Average of the numbers:\", average)"
   ]
  },
  {
   "cell_type": "markdown",
   "id": "21365f36-af49-49da-b0af-495cd7091d90",
   "metadata": {},
   "source": [
    "- numbers = [5, 12, 8, 16, 3, 7] This line creates a sample list called numbers containing some numerical values.\n",
    "\n",
    "- sum_numbers = 0 and count = 0 Initialize variables for the sum of numbers and the count of numbers, both starting with values of 0.\n",
    "- for num in numbers: Initiates a for loop that iterates over each element (num) in the numbers list.\n",
    "\n",
    "- sum_numbers += num and count += 1 Inside the loop, adds the current number to the running sum and increments the count for each iteration.\n",
    "- average = sum_numbers / count Calculates the average by dividing the sum of numbers by the count of numbers.\n",
    "- print(\"Average of the numbers:\", average) Prints the final average of the numbers."
   ]
  },
  {
   "cell_type": "markdown",
   "id": "cc6c2e9f-8dee-4cec-8e28-4a2a3f138047",
   "metadata": {},
   "source": [
    "### 10. Develop a program that prints the first `n` Fibonacci numbers using a `for` loop."
   ]
  },
  {
   "cell_type": "code",
   "execution_count": 37,
   "id": "e523cbbe-9d2f-4a86-aa55-411f9d3a189d",
   "metadata": {},
   "outputs": [
    {
     "name": "stdin",
     "output_type": "stream",
     "text": [
      "Enter the value of n:  8\n"
     ]
    },
    {
     "name": "stdout",
     "output_type": "stream",
     "text": [
      "First 8 Fibonacci numbers:\n",
      "0 1 1 2 3 5 8 13 "
     ]
    }
   ],
   "source": [
    "# Function to print the first n Fibonacci numbers\n",
    "def print_fibonacci(n):\n",
    "    fib_sequence = [0, 1]\n",
    "\n",
    "    # Using a for loop to generate Fibonacci numbers\n",
    "    for i in range(2, n):\n",
    "        next_fibonacci = fib_sequence[-1] + fib_sequence[-2]\n",
    "        fib_sequence.append(next_fibonacci)\n",
    "\n",
    "    # Print the Fibonacci sequence\n",
    "    print(f\"First {n} Fibonacci numbers:\")\n",
    "    for num in fib_sequence:\n",
    "        print(num, end=\" \")\n",
    "\n",
    "# Input: the value of n\n",
    "n = int(input(\"Enter the value of n: \"))\n",
    "\n",
    "# Call the function to print the Fibonacci sequence\n",
    "print_fibonacci(n)"
   ]
  },
  {
   "cell_type": "markdown",
   "id": "75b84161-6c87-40ad-8b9e-ca522b368690",
   "metadata": {},
   "source": [
    "- def print_fibonacci(n):This line defines a function named print_fibonacci that takes a parameter n.\n",
    "\n",
    "- fib_sequence = [0, 1] Initializes a list fib_sequence with the first two Fibonacci numbers.\n",
    "- for i in range(2, n):Initiates a for loop starting from the third Fibonacci number up to the n-th Fibonacci number.\n",
    "- next_fibonacci = fib_sequence[-1] + fib_sequence[-2]Calculates the next Fibonacci number by adding the last two numbers in the sequence.\n",
    "- fib_sequence.append(next_fibonacci)Appends the newly calculated Fibonacci number to the list.\n",
    "- print(f\"First {n} Fibonacci numbers:\")Prints a header indicating the number of Fibonacci numbers to be displayed.\n",
    "- for num in fib_sequence:Uses another for loop to iterate through the Fibonacci sequence and prints each number.\n",
    "- print(num, end=\" \")Prints each Fibonacci number separated by a space.\n",
    "- n = int(input(\"Enter the value of n: \"))Takes user input for the value of n.\n",
    "- print_fibonacci(n)Calls the print_fibonacci function with the user-input value of n to print the Fibonacci sequence."
   ]
  },
  {
   "cell_type": "markdown",
   "id": "75b8394b-dab9-4f4e-a4cb-ad609c323b9c",
   "metadata": {},
   "source": [
    "### **Intermediate Level:**"
   ]
  },
  {
   "cell_type": "markdown",
   "id": "b7a85037-25b8-45d5-bb03-c54da5467689",
   "metadata": {},
   "source": [
    "### 11. Write a program to check if a given list contains any duplicates using a `for` loop."
   ]
  },
  {
   "cell_type": "code",
   "execution_count": 3,
   "id": "585fb524-10eb-4525-998c-a381f8b2e58a",
   "metadata": {},
   "outputs": [
    {
     "name": "stdout",
     "output_type": "stream",
     "text": [
      "The list contains duplicates.\n"
     ]
    }
   ],
   "source": [
    "# Function to check for duplicates in a list\n",
    "def has_duplicates(input_list):\n",
    "    seen = set()\n",
    "\n",
    "    # Using a for loop to iterate over each element in the list\n",
    "    for element in input_list:\n",
    "        # If the element is already in the set, it's a duplicate\n",
    "        if element in seen:\n",
    "            return True\n",
    "        # Otherwise, add the element to the set\n",
    "        seen.add(element)\n",
    "\n",
    "    # No duplicates found\n",
    "    return False\n",
    "\n",
    "# Sample list with potential duplicates\n",
    "my_list = [2, 4, 6, 8, 2, 10, 12]\n",
    "\n",
    "# Call the function to check for duplicates and print the result\n",
    "if has_duplicates(my_list):\n",
    "    print(\"The list contains duplicates.\")\n",
    "else:\n",
    "    print(\"The list does not contain duplicates.\")"
   ]
  },
  {
   "cell_type": "markdown",
   "id": "3fdd3066-e4cb-46f0-947e-0fdabaf405a7",
   "metadata": {},
   "source": [
    "### 12. Create a program that prints the prime numbers in a given range using a `for` loop."
   ]
  },
  {
   "cell_type": "code",
   "execution_count": 2,
   "id": "78bdeb4d-12ba-4723-ba6e-c6ab8f984759",
   "metadata": {},
   "outputs": [
    {
     "name": "stdin",
     "output_type": "stream",
     "text": [
      "Enter the start of the range:  10\n",
      "Enter the end of the range:  30\n"
     ]
    },
    {
     "name": "stdout",
     "output_type": "stream",
     "text": [
      "Prime numbers in the range 10 to 30:\n",
      "11 13 17 19 23 29 "
     ]
    }
   ],
   "source": [
    "# Function to check if a number is prime\n",
    "def is_prime(num):\n",
    "    if num < 2:\n",
    "        return False\n",
    "    for i in range(2, int(num**0.5) + 1):\n",
    "        if num % i == 0:\n",
    "            return False\n",
    "    return True\n",
    "\n",
    "# Function to print prime numbers in a given range\n",
    "def print_primes_in_range(start, end):\n",
    "    print(f\"Prime numbers in the range {start} to {end}:\")\n",
    "\n",
    "    # Using a for loop to iterate over numbers in the given range\n",
    "    for num in range(start, end + 1):\n",
    "        if is_prime(num):\n",
    "            print(num, end=\" \")\n",
    "\n",
    "# Input: the range for prime numbers\n",
    "start_range = int(input(\"Enter the start of the range: \"))\n",
    "end_range = int(input(\"Enter the end of the range: \"))\n",
    "\n",
    "# Call the function to print prime numbers in the given range\n",
    "print_primes_in_range(start_range, end_range)"
   ]
  },
  {
   "cell_type": "markdown",
   "id": "3ee3fdda-95eb-4e25-b6a3-aa2c513cac52",
   "metadata": {},
   "source": [
    "- def is_prime(num):This line defines a function named is_prime that takes a number num and checks if it's prime.\n",
    "\n",
    "- if num < 2: return FalseIf the number is less than 2, it's not prime.\n",
    "\n",
    "- for i in range(2, int(num**0.5) + 1):Uses a for loop to iterate from 2 to the square root of the number plus 1.\n",
    "\n",
    "- Checking up to the square root is sufficient for primality testing.\n",
    "\n",
    "- if num % i == 0: return FalseIf the number is divisible by any integer in the range, it's not prime.\n",
    "\n",
    "- return True\n",
    "\n",
    "- If the loop completes without finding a divisor, the number is prime.\n",
    "\n",
    "- def print_primes_in_range(start, end):Defines a function named print_primes_in_range that takes a start and end value for a range.\n",
    "\n",
    "- for num in range(start, end + 1):Initiates a for loop to iterate over numbers in the given range.\n",
    "\n",
    "- if is_prime(num): print(num, end=\" \")Checks if each number is prime using the is_prime function and prints it if it is.\n",
    "\n",
    "- start_range = int(input(\"Enter the start of the range: \")) and end_range = int(input(\"Enter the end of the range: \")) Takes user input for the start and end of the range.\n",
    "\n",
    "- print_primes_in_range(start_range, end_range)Calls the print_primes_in_range function with the user-input range to print the prime numbers in that range."
   ]
  },
  {
   "cell_type": "markdown",
   "id": "2b6d97f8-1f6e-4158-8294-6c187a131bb4",
   "metadata": {},
   "source": [
    "### 13. Develop a program that counts the number of vowels in a string using a `for` loop."
   ]
  },
  {
   "cell_type": "code",
   "execution_count": 3,
   "id": "1e1d6ddd-e082-4738-8fea-3fc08d9798e5",
   "metadata": {},
   "outputs": [
    {
     "name": "stdin",
     "output_type": "stream",
     "text": [
      "Enter a string:  Rajan\n"
     ]
    },
    {
     "name": "stdout",
     "output_type": "stream",
     "text": [
      "Number of vowels in the string: 2\n"
     ]
    }
   ],
   "source": [
    "# Function to count the number of vowels in a string\n",
    "def count_vowels(input_string):\n",
    "    vowels = \"aeiouAEIOU\"\n",
    "    vowel_count = 0\n",
    "\n",
    "    # Using a for loop to iterate through each character in the string\n",
    "    for char in input_string:\n",
    "        # Check if the character is a vowel\n",
    "        if char in vowels:\n",
    "            vowel_count += 1\n",
    "\n",
    "    return vowel_count\n",
    "\n",
    "# Input: the string for which vowels need to be counted\n",
    "user_input = input(\"Enter a string: \")\n",
    "\n",
    "# Call the function to count vowels and print the result\n",
    "result = count_vowels(user_input)\n",
    "print(f\"Number of vowels in the string: {result}\")"
   ]
  },
  {
   "cell_type": "markdown",
   "id": "d891a743-5f62-401a-971b-b64945b82837",
   "metadata": {},
   "source": [
    "- def count_vowels(input_string): This line defines a function named count_vowels that takes a parameter input_string.\n",
    "\n",
    "- vowels = \"aeiouAEIOU\" Initializes a string vowels containing all lowercase and uppercase vowels.\n",
    "\n",
    "- vowel_count = 0 Initializes a variable vowel_count to store the count of vowels, starting with an initial value of 0.\n",
    "\n",
    "- for char in input_string: Initiates a for loop that iterates through each character (char) in the input_string.\n",
    "\n",
    "- if char in vowels: Inside the loop, checks if the current character is a vowel by using the in operator.\n",
    "\n",
    "- vowel_count += 1 If the character is a vowel, increments the vowel_count.\n",
    "\n",
    "- return vowel_count Returns the final count of vowels.\n",
    "\n",
    "- user_input = input(\"Enter a string: \") Takes user input for the string for which vowels need to be counted.\n",
    "\n",
    "- result = count_vowels(user_input) Calls the count_vowels function with the user-input string and stores the result.\n",
    "\n",
    "- print(f\"Number of vowels in the string: {result}\") Prints the final count of vowels in the given string."
   ]
  },
  {
   "cell_type": "markdown",
   "id": "e6950794-500e-4631-98f1-754de8ff061b",
   "metadata": {},
   "source": [
    "### 14. Write a program to find the maximum element in a 2D list using a nested `for` loop."
   ]
  },
  {
   "cell_type": "code",
   "execution_count": 7,
   "id": "a6574762-d386-4f2f-9da7-5aa6204d7ded",
   "metadata": {},
   "outputs": [
    {
     "name": "stdout",
     "output_type": "stream",
     "text": [
      "The maximum element in the 2D list is: 9\n"
     ]
    }
   ],
   "source": [
    "# Function to find the maximum element in a 2D list\n",
    "def find_max_element(matrix):\n",
    "    max_element = matrix[0][0]\n",
    "    \n",
    "     # Using nested for loops to iterate through each element in the 2D list\n",
    "    for row in matrix:\n",
    "        for element in row:\n",
    "            if(element>max_element):\n",
    "                max_element = element\n",
    "    return max_element\n",
    "\n",
    "# sample 2D matrix\n",
    "matrix = [\n",
    "    [3,8,1],\n",
    "    [5,2,7],\n",
    "    [6,4,9]\n",
    "]\n",
    "\n",
    "# Call the function to find the maximum element and print the result\n",
    "max_element = find_max_element(matrix)\n",
    "print(f\"The maximum element in the 2D list is: {max_element}\")"
   ]
  },
  {
   "cell_type": "markdown",
   "id": "9f71bf97-4e84-4e1b-9a77-37e05bd91359",
   "metadata": {},
   "source": [
    "- def find_max_element(matrix):This line defines a function named find_max_element that takes a 2D list matrix.\n",
    "\n",
    "- max_element = matrix[0][0] Initializes a variable max_element with the first element of the 2D list.\n",
    "\n",
    "- for row in matrix:Initiates the outer for loop to iterate through each row in the 2D list.\n",
    "\n",
    "- for element in row:Initiates the inner for loop to iterate through each element in the current row.\n",
    "\n",
    "- if element > max_element: Inside the nested loops, checks if the current element is greater than the current max_element.\n",
    "\n",
    "- max_element = element If the current element is greater, updates max_element with the new maximum value.\n",
    "\n",
    "- return max_element Returns the final maximum element found in the 2D list.\n",
    "\n",
    "- matrix = [...] Creates a sample 2D list named matrix.\n",
    "\n",
    "- max_element = find_max_element(matrix) Calls the function to find the maximum element in the 2D list and stores the result.\n",
    "\n",
    "- print(f\"The maximum element in the 2D list is: {max_element}\") Prints the result."
   ]
  },
  {
   "cell_type": "markdown",
   "id": "e8670e27-7591-4cae-955a-4cd5538104ad",
   "metadata": {},
   "source": [
    "### 15. Create a program that removes all occurrences of a specific element from a list using a `for` loop."
   ]
  },
  {
   "cell_type": "code",
   "execution_count": 21,
   "id": "942d59db-2826-472b-aed5-9265ce871d2c",
   "metadata": {},
   "outputs": [
    {
     "name": "stdout",
     "output_type": "stream",
     "text": [
      "List after removing all occurrences of 2 : [3, 4, 6, 8]\n"
     ]
    }
   ],
   "source": [
    "# Function to remove all occurrences of a specific element from a list\n",
    "def remove_element(lst, target):\n",
    "    # Using a for loop to iterate through each element in the list\n",
    "    for element in lst:\n",
    "        # Check if the current element is equal to the target\n",
    "        if element == target:\n",
    "            # Remove the element from the list\n",
    "            lst.remove(element)\n",
    "\n",
    "# Sample list\n",
    "my_list = [2, 3, 4, 2, 6, 2, 8, 2]\n",
    "\n",
    "# Input: the element to be removed\n",
    "target_element = 2\n",
    "\n",
    "# Call the function to remove the target element from the list\n",
    "remove_element(my_list, target_element)\n",
    "\n",
    "# Print the modified list\n",
    "print(\"List after removing all occurrences of\", target_element, \":\", my_list)"
   ]
  },
  {
   "cell_type": "markdown",
   "id": "5881edd2-d164-4215-8c83-670301ffc73c",
   "metadata": {},
   "source": [
    "- def remove_element(lst, target): This line defines a function named remove_element that takes a list lst and a target element target.\n",
    "\n",
    "- for element in lst: Initiates a for loop that iterates through each element in the list lst.\n",
    "\n",
    "- if element == target: Inside the loop, checks if the current element is equal to the target element.\n",
    "\n",
    "- lst.remove(element) If the element is equal to the target, removes that element from the list.\n",
    "\n",
    "- my_list = [2, 3, 4, 2, 6, 2, 8, 2] Creates a sample list named my_list containing some elements.\n",
    "\n",
    "- target_element = int(input(\"Enter the element to remove: \")) Takes user input for the element to be removed from the list.\n",
    "\n",
    "- remove_element(my_list, target_element) Calls the remove_element function to remove all occurrences of the target element from my_list.\n",
    "\n",
    "- print(\"List after removing all occurrences of\", target_element, \":\", my_list)Prints the modified list after removing all occurrences of the target element."
   ]
  },
  {
   "cell_type": "markdown",
   "id": "779eeac9-71d7-4b3c-a54a-a5e358747903",
   "metadata": {},
   "source": [
    "### 16. Develop a program that generates a multiplication table for numbers from 1 to 5 using a nested `for` loop."
   ]
  },
  {
   "cell_type": "code",
   "execution_count": 22,
   "id": "9065b74c-6d93-4100-a66c-cf4bf85e393b",
   "metadata": {},
   "outputs": [
    {
     "name": "stdout",
     "output_type": "stream",
     "text": [
      "\n",
      "Multiplication table for 1:\n",
      "1 x 1 = 1\n",
      "1 x 2 = 2\n",
      "1 x 3 = 3\n",
      "1 x 4 = 4\n",
      "1 x 5 = 5\n",
      "1 x 6 = 6\n",
      "1 x 7 = 7\n",
      "1 x 8 = 8\n",
      "1 x 9 = 9\n",
      "1 x 10 = 10\n",
      "\n",
      "Multiplication table for 2:\n",
      "2 x 1 = 2\n",
      "2 x 2 = 4\n",
      "2 x 3 = 6\n",
      "2 x 4 = 8\n",
      "2 x 5 = 10\n",
      "2 x 6 = 12\n",
      "2 x 7 = 14\n",
      "2 x 8 = 16\n",
      "2 x 9 = 18\n",
      "2 x 10 = 20\n",
      "\n",
      "Multiplication table for 3:\n",
      "3 x 1 = 3\n",
      "3 x 2 = 6\n",
      "3 x 3 = 9\n",
      "3 x 4 = 12\n",
      "3 x 5 = 15\n",
      "3 x 6 = 18\n",
      "3 x 7 = 21\n",
      "3 x 8 = 24\n",
      "3 x 9 = 27\n",
      "3 x 10 = 30\n",
      "\n",
      "Multiplication table for 4:\n",
      "4 x 1 = 4\n",
      "4 x 2 = 8\n",
      "4 x 3 = 12\n",
      "4 x 4 = 16\n",
      "4 x 5 = 20\n",
      "4 x 6 = 24\n",
      "4 x 7 = 28\n",
      "4 x 8 = 32\n",
      "4 x 9 = 36\n",
      "4 x 10 = 40\n",
      "\n",
      "Multiplication table for 5:\n",
      "5 x 1 = 5\n",
      "5 x 2 = 10\n",
      "5 x 3 = 15\n",
      "5 x 4 = 20\n",
      "5 x 5 = 25\n",
      "5 x 6 = 30\n",
      "5 x 7 = 35\n",
      "5 x 8 = 40\n",
      "5 x 9 = 45\n",
      "5 x 10 = 50\n"
     ]
    }
   ],
   "source": [
    "# Using nested for loops to generate a multiplication table\n",
    "for i in range(1, 6):  # Outer loop for multiplicand\n",
    "    print(f\"\\nMultiplication table for {i}:\")\n",
    "    for j in range(1, 11):  # Inner loop for multiplier\n",
    "        result = i * j\n",
    "        print(f\"{i} x {j} = {result}\")"
   ]
  },
  {
   "cell_type": "markdown",
   "id": "cf0f125a-c0f2-4bff-97eb-9976442c286c",
   "metadata": {},
   "source": [
    "- Outer Loop (for i in range(1, 6):): This loop iterates over the multiplicands from 1 to 5.\n",
    "\n",
    "- Inner Loop (for j in range(1, 11):):Nested inside the outer loop, this loop iterates over the multipliers from 1 to 10 for each multiplicand.\n",
    "\n",
    "- result = i * j: Calculates the product of the current multiplicand i and multiplier j.\n",
    "\n",
    "- print(f\"{i} x {j} = {result}\"): Prints the multiplication table entry in a formatted string."
   ]
  },
  {
   "cell_type": "markdown",
   "id": "7ff8862a-bbaa-4cde-acfc-91a570347a7e",
   "metadata": {},
   "source": [
    "### 17. Write a program that converts a list of Fahrenheit temperatures to Celsius using a `for` loop."
   ]
  },
  {
   "cell_type": "code",
   "execution_count": 23,
   "id": "1279b5a5-b7c6-460b-af42-aa3e33221a41",
   "metadata": {},
   "outputs": [
    {
     "name": "stdout",
     "output_type": "stream",
     "text": [
      "Fahrenheit Temperatures: [32, 68, 104, 140, 176]\n",
      "Celsius Temperatures: [0.0, 20.0, 40.0, 60.0, 80.0]\n"
     ]
    }
   ],
   "source": [
    "# Function to convert Fahrenheit to Celsius\n",
    "def fahrenheit_to_celsius(fahrenheit):\n",
    "    return (fahrenheit - 32) * 5/9\n",
    "\n",
    "# Sample list of Fahrenheit temperatures\n",
    "fahrenheit_temps = [32, 68, 104, 140, 176]\n",
    "\n",
    "# Using a for loop to convert each temperature to Celsius\n",
    "celsius_temps = []\n",
    "for temp in fahrenheit_temps:\n",
    "    celsius_temps.append(fahrenheit_to_celsius(temp))\n",
    "\n",
    "# Print the original and converted temperatures\n",
    "print(\"Fahrenheit Temperatures:\", fahrenheit_temps)\n",
    "print(\"Celsius Temperatures:\", celsius_temps)"
   ]
  },
  {
   "cell_type": "markdown",
   "id": "eb9abd3d-68f8-4042-a657-4a84a6d0c1ce",
   "metadata": {},
   "source": [
    "- def fahrenheit_to_celsius(fahrenheit):This line defines a function named fahrenheit_to_celsius that takes a Fahrenheit temperature and returns its equivalent in Celsius.\n",
    "\n",
    "- return (fahrenheit - 32) * 5/9 Converts Fahrenheit to Celsius using the conversion formula.\n",
    "\n",
    "- fahrenheit_temps = [32, 68, 104, 140, 176] Creates a sample list named fahrenheit_temps containing Fahrenheit temperatures.\n",
    "\n",
    "- Using a for loop to iterate through each Fahrenheit temperature in fahrenheit_temps and convert it to Celsius.\n",
    "\n",
    "- celsius_temps = [] Initializes an empty list celsius_temps to store the converted temperatures.\n",
    "\n",
    "- for temp in fahrenheit_temps: Initiates a for loop to iterate through each Fahrenheit temperature in the list.\n",
    "\n",
    "- celsius_temps.append(fahrenheit_to_celsius(temp)) Appends the converted Celsius temperature to the celsius_temps list.\n",
    "\n",
    "- print(\"Fahrenheit Temperatures:\", fahrenheit_temps) Prints the original Fahrenheit temperatures.\n",
    "\n",
    "- print(\"Celsius Temperatures:\", celsius_temps) Prints the corresponding Celsius temperatures."
   ]
  },
  {
   "cell_type": "markdown",
   "id": "c05e3758-fb22-4602-8e7e-036bfe08d0c7",
   "metadata": {},
   "source": [
    "### 18. Create a program to print the common elements from two lists using a `for` loop."
   ]
  },
  {
   "cell_type": "code",
   "execution_count": 1,
   "id": "000d3a40-4469-4e18-a4b4-52e4da5909f0",
   "metadata": {},
   "outputs": [
    {
     "name": "stdout",
     "output_type": "stream",
     "text": [
      "Common elements: [3, 4, 5]\n"
     ]
    }
   ],
   "source": [
    "# Function to find common elements between two lists\n",
    "def find_common_elements(list1, list2):\n",
    "    common_elements = []\n",
    "\n",
    "    # Using a for loop to iterate through elements in the first list\n",
    "    for element1 in list1:\n",
    "        # Using another for loop to iterate through elements in the second list\n",
    "        for element2 in list2:\n",
    "            # Check if the elements are the same\n",
    "            if element1 == element2:\n",
    "                common_elements.append(element1)\n",
    "\n",
    "    return common_elements\n",
    "\n",
    "# Sample lists\n",
    "list1 = [1, 2, 3, 4, 5]\n",
    "list2 = [3, 4, 5, 6, 7]\n",
    "\n",
    "# Call the function to find common elements and print the result\n",
    "common_elements = find_common_elements(list1, list2)\n",
    "print(\"Common elements:\", common_elements)"
   ]
  },
  {
   "cell_type": "markdown",
   "id": "942b03b2-3809-47dd-a5af-8a5ee4d3e47e",
   "metadata": {},
   "source": [
    "- def find_common_elements(list1, list2): This line defines a function named find_common_elements that takes two lists, list1 and list2.\n",
    "- common_elements = []Initializes an empty list to store the common elements.\n",
    "- Using a nested for loop structure:\n",
    "- Outer Loop (for element1 in list1:):Iterates through each element in the first list (list1).\n",
    "- Inner Loop (for element2 in list2:):Iterates through each element in the second list (list2).\n",
    "- if element1 == element2: Checks if the current elements from both lists are the same.\n",
    "- If they are, appends the element to the common_elements list.\n",
    "- return common_elements Returns the list of common elements.\n",
    "- list1 = [1, 2, 3, 4, 5] and list2 = [3, 4, 5, 6, 7] Creates two sample lists.\n",
    "- common_elements = find_common_elements(list1, list2)Calls the function to find common elements between list1 and list2 and stores the result.\n",
    "- print(\"Common elements:\", common_elements) Prints the common elements found in both lists."
   ]
  },
  {
   "cell_type": "markdown",
   "id": "8584ceeb-b6af-4dfe-aea6-807e5bc9a2dc",
   "metadata": {},
   "source": [
    "### 19. Develop a program that prints the pattern of right-angled triangles using a `for` loop. Use ‘*’ to draw the pattern"
   ]
  },
  {
   "cell_type": "code",
   "execution_count": 2,
   "id": "2881bf51-3290-4b9b-8b03-4e31477e2f0a",
   "metadata": {},
   "outputs": [
    {
     "name": "stdin",
     "output_type": "stream",
     "text": [
      "Enter the number of rows for the right-angled triangles pattern:  5\n"
     ]
    },
    {
     "name": "stdout",
     "output_type": "stream",
     "text": [
      "* \n",
      "* * \n",
      "* * * \n",
      "* * * * \n",
      "* * * * * \n"
     ]
    }
   ],
   "source": [
    "# Function to print right-angled triangles pattern\n",
    "def print_right_triangle_pattern(rows):\n",
    "    for i in range(1, rows + 1):\n",
    "        for j in range(1, i + 1):\n",
    "            print('*', end=' ')\n",
    "        print()\n",
    "\n",
    "# Input: Number of rows in the pattern\n",
    "num_rows = int(input(\"Enter the number of rows for the right-angled triangles pattern: \"))\n",
    "\n",
    "# Call the function to print the pattern\n",
    "print_right_triangle_pattern(num_rows)"
   ]
  },
  {
   "cell_type": "markdown",
   "id": "227cd8bb-b7a0-4abf-9280-dd7edfad7daa",
   "metadata": {},
   "source": [
    "- def print_right_triangle_pattern(rows):This line defines a function named print_right_triangle_pattern that takes the number of rows (rows) as a parameter.\n",
    "- Using nested for loops to print the pattern:\n",
    "- Outer Loop (for i in range(1, rows + 1):): Iterates through each row.\n",
    "- Inner Loop (for j in range(1, i + 1):):Iterates through each column in the current row.\n",
    "- print('*', end=' ') Prints '*' without moving to the next line.\n",
    "- print() Moves to the next line after printing the '*' characters for the current row.\n",
    "- num_rows = int(input(\"Enter the number of rows for the right-angled triangles pattern: \")) Takes user input for the number of rows in the pattern.\n",
    "- print_right_triangle_pattern(num_rows) Calls the function to print the right-angled triangles pattern with the specified number of rows."
   ]
  },
  {
   "cell_type": "markdown",
   "id": "233126cf-dfd5-439b-b018-369c3cbaaf98",
   "metadata": {},
   "source": [
    "### 20. Write a program to find the greatest common divisor (GCD) of two numbers using a `for` loop"
   ]
  },
  {
   "cell_type": "code",
   "execution_count": 5,
   "id": "4dcc33b9-1f01-456c-85f4-31b91e89da04",
   "metadata": {},
   "outputs": [
    {
     "name": "stdin",
     "output_type": "stream",
     "text": [
      "Enter the first number:  48\n",
      "Enter the second number:  18\n"
     ]
    },
    {
     "name": "stdout",
     "output_type": "stream",
     "text": [
      "The Greatest Common Divisor (GCD) of 48 and 18 is: 6\n"
     ]
    }
   ],
   "source": [
    "# Function to find the greatest common divisor (GCD) of two numbers\n",
    "def find_gcd(num1, num2):\n",
    "    # Choose the smaller of the two numbers as the initial guess for GCD\n",
    "    gcd = min(num1, num2)\n",
    "\n",
    "    # Using a for loop to iterate from the initial guess towards 1\n",
    "    for i in range(gcd, 0, -1):\n",
    "        if num1 % i == 0 and num2 % i == 0:\n",
    "            # If both numbers are divisible by i, i is the GCD\n",
    "            gcd = i\n",
    "            break\n",
    "\n",
    "    return gcd\n",
    "\n",
    "# Input: two numbers for which GCD needs to be found\n",
    "num1 = int(input(\"Enter the first number: \"))\n",
    "num2 = int(input(\"Enter the second number: \"))\n",
    "\n",
    "# Call the function to find the GCD and print the result\n",
    "gcd_result = find_gcd(num1, num2)\n",
    "print(f\"The Greatest Common Divisor (GCD) of {num1} and {num2} is: {gcd_result}\")"
   ]
  },
  {
   "cell_type": "markdown",
   "id": "5968165c-a341-4229-bf2b-35f28cdce715",
   "metadata": {},
   "source": [
    "- def find_gcd(num1, num2): This line defines a function named find_gcd that takes two numbers, num1 and num2.\n",
    "- gcd = min(num1, num2) Initializes gcd with the smaller of the two numbers.\n",
    "- Using a for loop to iterate from the initial guess (gcd) towards 1. \n",
    "- for i in range(gcd, 0, -1): The loop iterates from the initial guess towards 1 in reverse order.\n",
    "- if num1 % i == 0 and num2 % i == 0:Checks if both numbers are divisible by the current value of i.\n",
    "- gcd = i If the condition is true, updates gcd with the current value of i (found GCD).\n",
    "- break Breaks out of the loop since the GCD has been found.\n",
    "- return gcd Returns the GCD.\n",
    "- Takes user input for the two numbers. \n",
    "- gcd_result = find_gcd(num1, num2) Calls the function to find the GCD of the two numbers.\n",
    "- print(f\"The Greatest Common Divisor (GCD) of {num1} and {num2} is: {gcd_result}\") Prints the result."
   ]
  },
  {
   "cell_type": "markdown",
   "id": "f6037991-9e44-4603-a215-a1fd1d526bb8",
   "metadata": {},
   "source": [
    "### **Advanced Level:**"
   ]
  },
  {
   "cell_type": "markdown",
   "id": "cbe00743-93ec-4b76-a0b3-903f6dee8732",
   "metadata": {},
   "source": [
    "### 21. Create a program that calculates the sum of the digits of numbers in a list using a list comprehension."
   ]
  },
  {
   "cell_type": "code",
   "execution_count": 1,
   "id": "51d21469-8399-4ac6-88a2-ca60bb4abdb8",
   "metadata": {},
   "outputs": [
    {
     "name": "stdout",
     "output_type": "stream",
     "text": [
      "Original List of Numbers: [123, 456, 789]\n",
      "Sums of Digits for Each Number: [6, 15, 24]\n"
     ]
    }
   ],
   "source": [
    "# Function to calculate the sum of digits of a number\n",
    "def sum_of_digits(number):\n",
    "    return sum(int(digit) for digit in str(abs(number)))\n",
    "\n",
    "# Sample list of numbers\n",
    "numbers_list = [123, 456, 789]\n",
    "\n",
    "# Using a list comprehension to calculate the sum of digits for each number in the list\n",
    "sums_list = [sum_of_digits(num) for num in numbers_list]\n",
    "\n",
    "# Print the original list and the corresponding sums of digits\n",
    "print(\"Original List of Numbers:\", numbers_list)\n",
    "print(\"Sums of Digits for Each Number:\", sums_list)"
   ]
  },
  {
   "cell_type": "markdown",
   "id": "0b99ee11-6e97-4f1e-a3db-226cbd692fad",
   "metadata": {},
   "source": [
    "- def sum_of_digits(number):This line defines a function named sum_of_digits that takes a number and calculates the sum of its digits.\n",
    "- return sum(int(digit) for digit in str(abs(number))) Converts the absolute value of the number to a string, iterates through each digit, converts it back to an integer, and then calculates the sum of these digits.\n",
    "\n",
    "- numbers_list = [123, 456, 789]Creates a sample list named numbers_list containing numbers.\n",
    "- Using a list comprehension to calculate the sum of digits for each number in the list.\n",
    "- sums_list = [sum_of_digits(num) for num in numbers_list] Calls the sum_of_digits function for each number in the list using a list comprehension and stores the results in a new list.\n",
    "- print(\"Original List of Numbers:\", numbers_list) Prints the original list of numbers.\n",
    "- print(\"Sums of Digits for Each Number:\", sums_list) Prints the corresponding sums of digits for each number."
   ]
  },
  {
   "cell_type": "markdown",
   "id": "64c7d0da-a9f7-4477-abf3-1eb2e0862ad8",
   "metadata": {},
   "source": [
    "### 22. Write a program to find the prime factors of a given number using a `for` loop and list comprehension."
   ]
  },
  {
   "cell_type": "code",
   "execution_count": 3,
   "id": "fb43260d-8025-49d2-83f2-62be9a25ec11",
   "metadata": {},
   "outputs": [
    {
     "name": "stdin",
     "output_type": "stream",
     "text": [
      "Enter a number to find its prime factors:  18\n"
     ]
    },
    {
     "name": "stdout",
     "output_type": "stream",
     "text": [
      "Prime factors of 18 are: [2, 3]\n"
     ]
    }
   ],
   "source": [
    "# Function to find prime factors of a number\n",
    "def prime_factors(number):\n",
    "    return [i for i in range(2, number + 1) if number % i == 0 and all(i % j != 0 for j in range(2, int(i**0.5) + 1))]\n",
    "\n",
    "# Input: Number for which prime factors need to be found\n",
    "num = int(input(\"Enter a number to find its prime factors: \"))\n",
    "\n",
    "# Call the function to find prime factors and print the result\n",
    "factors = prime_factors(num)\n",
    "print(f\"Prime factors of {num} are: {factors}\")"
   ]
  },
  {
   "cell_type": "markdown",
   "id": "7b58143e-323d-4eef-b566-d279e6e08b93",
   "metadata": {},
   "source": [
    "- def prime_factors(number): This line defines a function named prime_factors that takes a number and returns a list of its prime factors.\n",
    "- [i for i in range(2, number + 1) if number % i == 0 and all(i % j != 0 for j in range(2, int(i**0.5) + 1))]Using list comprehension to generate a list of prime factors:\n",
    "- Iterates through numbers i from 2 to the given number (number).\n",
    "- Checks if number is divisible by i and i is a prime number (no divisors other than 1 and itself).\n",
    "- num = int(input(\"Enter a number to find its prime factors: \"))Takes user input for the number for which prime factors need to be found.\n",
    "- factors = prime_factors(num) Calls the function to find the prime factors of the entered number.\n",
    "- print(f\"Prime factors of {num} are: {factors}\") Prints the result."
   ]
  },
  {
   "cell_type": "markdown",
   "id": "7bfdee6e-e14a-4489-8081-238a2c62f8bb",
   "metadata": {},
   "source": [
    "### 23. Develop a program that extracts unique elements from a list and stores them in a new list using a list comprehension"
   ]
  },
  {
   "cell_type": "code",
   "execution_count": 5,
   "id": "db438a46-e3ec-43d0-8e37-30ec5b4a93aa",
   "metadata": {},
   "outputs": [
    {
     "name": "stdout",
     "output_type": "stream",
     "text": [
      "Original List: [1, 2, 2, 3, 4, 4, 5, 6, 6, 7]\n",
      "Unique List: [1, 2, 3, 4, 5, 6, 7]\n"
     ]
    }
   ],
   "source": [
    "# Sample list with duplicate elements\n",
    "original_list = [1, 2, 2, 3, 4, 4, 5, 6, 6, 7]\n",
    "\n",
    "# Using list comprehension to extract unique elements\n",
    "unique_list = list(set(original_list))\n",
    "\n",
    "# Print the original and unique lists\n",
    "print(\"Original List:\", original_list)\n",
    "print(\"Unique List:\", unique_list)"
   ]
  },
  {
   "cell_type": "markdown",
   "id": "d52788c7-b984-4c3f-a04f-719f050b8105",
   "metadata": {},
   "source": [
    "- original_list = [1, 2, 2, 3, 4, 4, 5, 6, 6, 7] Creates a sample list with duplicate elements.\n",
    "- unique_list = list(set(original_list)) Uses a set to automatically eliminate duplicate elements.\n",
    "- Converts the set back to a list to maintain the original order.\n",
    "- This line extracts unique elements from the original list.\n",
    "- print(\"Original List:\", original_list)  Prints the original list with duplicate elements.\n",
    "- print(\"Unique List:\", unique_list) Prints the list containing only unique elements."
   ]
  },
  {
   "cell_type": "markdown",
   "id": "ec831297-ad7e-4174-bf6a-8d3727e4d3f7",
   "metadata": {},
   "source": [
    "### 24. Create a program that generates a list of all palindromic numbers up to a specified limit using a list comprehension."
   ]
  },
  {
   "cell_type": "code",
   "execution_count": 6,
   "id": "1a3f1949-8311-4c01-947c-d2b43ec3133c",
   "metadata": {},
   "outputs": [
    {
     "name": "stdin",
     "output_type": "stream",
     "text": [
      "Enter the upper limit for palindromic numbers:  50\n"
     ]
    },
    {
     "name": "stdout",
     "output_type": "stream",
     "text": [
      "Palindromic numbers up to 50: [0, 1, 2, 3, 4, 5, 6, 7, 8, 9, 11, 22, 33, 44]\n"
     ]
    }
   ],
   "source": [
    "# Function to check if a number is a palindrome\n",
    "def is_palindrome(number):\n",
    "    return str(number) == str(number)[::-1]\n",
    "\n",
    "# Function to generate a list of palindromic numbers up to a limit\n",
    "def palindromic_numbers(limit):\n",
    "    return [num for num in range(limit + 1) if is_palindrome(num)]\n",
    "\n",
    "# Input: Upper limit for palindromic numbers\n",
    "upper_limit = int(input(\"Enter the upper limit for palindromic numbers: \"))\n",
    "\n",
    "# Call the function to generate the list and print the result\n",
    "palindrome_list = palindromic_numbers(upper_limit)\n",
    "print(f\"Palindromic numbers up to {upper_limit}: {palindrome_list}\")"
   ]
  },
  {
   "cell_type": "markdown",
   "id": "6e19a63c-9755-4d5f-9fb7-b1e22084b06c",
   "metadata": {},
   "source": [
    "- def is_palindrome(number): This line defines a function named is_palindrome that checks if a given number is a palindrome.\n",
    "- return str(number) == str(number)[::-1] Converts the number to a string and checks if it is equal to its reverse.\n",
    "- def palindromic_numbers(limit): This line defines a function named palindromic_numbers that generates a list of palindromic numbers up to a specified limit.\n",
    "- [num for num in range(limit + 1) if is_palindrome(num)] Uses a list comprehension to generate a list of palindromic numbers:\n",
    "- Iterates through numbers from 0 to the specified limit.\n",
    "- Checks if each number is a palindrome using the is_palindrome function.\n",
    "- upper_limit = int(input(\"Enter the upper limit for palindromic numbers: \")) Takes user input for the upper limit of palindromic numbers.\n",
    "- palindrome_list = palindromic_numbers(upper_limit) Calls the function to generate the list of palindromic numbers up to the specified limit.\n",
    "- print(f\"Palindromic numbers up to {upper_limit}: {palindrome_list}\") Prints the result."
   ]
  },
  {
   "cell_type": "markdown",
   "id": "b1b24c73-97aa-49b0-a168-729fb37e45ca",
   "metadata": {},
   "source": [
    "### 25. Write a program to flatten a nested list using list comprehension."
   ]
  },
  {
   "cell_type": "code",
   "execution_count": 7,
   "id": "dae0c3c4-1ef6-42d2-935c-b9066b131d59",
   "metadata": {},
   "outputs": [
    {
     "name": "stdout",
     "output_type": "stream",
     "text": [
      "Original Nested List: [1, [2, 3, [4, 5]], 6, [7, [8, 9]]]\n",
      "Flattened List: [1, 2, 3, 4, 5, 6, 7, 8, 9]\n"
     ]
    }
   ],
   "source": [
    "# Function to flatten a nested list\n",
    "def flatten_list(nested_list):\n",
    "    return [item for sublist in nested_list for item in (flatten_list(sublist) if isinstance(sublist, list) else [sublist])]\n",
    "\n",
    "# Sample nested list\n",
    "nested_list = [1, [2, 3, [4, 5]], 6, [7, [8, 9]]]\n",
    "\n",
    "# Using list comprehension to flatten the nested list\n",
    "flattened_list = flatten_list(nested_list)\n",
    "\n",
    "# Print the original nested list and the flattened list\n",
    "print(\"Original Nested List:\", nested_list)\n",
    "print(\"Flattened List:\", flattened_list)"
   ]
  },
  {
   "cell_type": "markdown",
   "id": "deb9a500-dc36-464d-9068-f4cbf565bd5b",
   "metadata": {},
   "source": [
    "- def flatten_list(nested_list): This line defines a recursive function named flatten_list that flattens a nested list.\n",
    "[item for sublist in nested_list for item in (flatten_list(sublist) if isinstance(sublist, list) else [sublist])]\n",
    "\n",
    "- Uses list comprehension to flatten the nested list:\n",
    "- Iterates through each sublist in the nested list.\n",
    "- Checks if the sublist is itself a list.\n",
    "- If yes, recursively calls flatten_list on the sublist.\n",
    "- If not, creates a list with the single item.\n",
    "- Flattens the sublist and appends its items to the result list.\n",
    "- nested_list = [1, [2, 3, [4, 5]], 6, [7, [8, 9]]] Creates a sample nested list.\n",
    "- flattened_list = flatten_list(nested_list) Calls the function to flatten the nested list.\n",
    "- print(\"Original Nested List:\", nested_list) Prints the original nested list.\n",
    "- print(\"Flattened List:\", flattened_list) Prints the flattened list."
   ]
  },
  {
   "cell_type": "markdown",
   "id": "58a9cd3f-4817-4a17-8d22-195bc32bd550",
   "metadata": {},
   "source": [
    "### 26. Develop a program that computes the sum of even and odd numbers in a list separately using list comprehension."
   ]
  },
  {
   "cell_type": "code",
   "execution_count": 8,
   "id": "be6cbb18-f62e-4242-80f6-9b87c75cd207",
   "metadata": {},
   "outputs": [
    {
     "name": "stdout",
     "output_type": "stream",
     "text": [
      "Original List: [1, 2, 3, 4, 5, 6, 7, 8, 9]\n",
      "Sum of Even Numbers: 20\n",
      "Sum of Odd Numbers: 25\n"
     ]
    }
   ],
   "source": [
    "# Sample list of numbers\n",
    "numbers_list = [1, 2, 3, 4, 5, 6, 7, 8, 9]\n",
    "\n",
    "# Using list comprehension to compute the sum of even and odd numbers separately\n",
    "sum_even = sum([num for num in numbers_list if num % 2 == 0])\n",
    "sum_odd = sum([num for num in numbers_list if num % 2 != 0])\n",
    "\n",
    "# Print the original list and the sums of even and odd numbers\n",
    "print(\"Original List:\", numbers_list)\n",
    "print(\"Sum of Even Numbers:\", sum_even)\n",
    "print(\"Sum of Odd Numbers:\", sum_odd)"
   ]
  },
  {
   "cell_type": "markdown",
   "id": "281135ff-59a4-4489-8aff-0bf36397e397",
   "metadata": {},
   "source": [
    "- numbers_list = [1, 2, 3, 4, 5, 6, 7, 8, 9] Creates a sample list of numbers.\n",
    "- sum_even = sum([num for num in numbers_list if num % 2 == 0]) Uses list comprehension to create a list of even numbers and calculates the sum.\n",
    "- sum_odd = sum([num for num in numbers_list if num % 2 != 0]) Uses list comprehension to create a list of odd numbers and calculates the sum.\n",
    "- print(\"Original List:\", numbers_list) Prints the original list of numbers.\n",
    "- print(\"Sum of Even Numbers:\", sum_even) Prints the sum of even numbers.\n",
    "- print(\"Sum of Odd Numbers:\", sum_odd) Prints the sum of odd numbers."
   ]
  },
  {
   "cell_type": "markdown",
   "id": "5530d018-7e20-44b9-9b48-d2f6b1b318db",
   "metadata": {},
   "source": [
    " ### 27.Create a program that generates a list of squares of odd numbers between 1 and 10 using list comprehension.\n"
   ]
  },
  {
   "cell_type": "code",
   "execution_count": 9,
   "id": "a7bb6e78-0b58-4ec8-a2ef-0c76fe259534",
   "metadata": {},
   "outputs": [
    {
     "name": "stdout",
     "output_type": "stream",
     "text": [
      "Squares of Odd Numbers between 1 and 10: [1, 9, 25, 49, 81]\n"
     ]
    }
   ],
   "source": [
    "# Using list comprehension to generate a list of squares of odd numbers between 1 and 10\n",
    "squares_of_odd_numbers = [num**2 for num in range(1, 11) if num % 2 != 0]\n",
    "\n",
    "# Print the result\n",
    "print(\"Squares of Odd Numbers between 1 and 10:\", squares_of_odd_numbers)"
   ]
  },
  {
   "cell_type": "markdown",
   "id": "f3473278-332d-45b8-b389-8808c07bbc9a",
   "metadata": {},
   "source": [
    "- [num**2 for num in range(1, 11) if num % 2 != 0] Uses list comprehension to generate a list of squares of odd numbers between 1 and 10.\n",
    "- for num in range(1, 11) iterates through numbers from 1 to 10.\n",
    "- if num % 2 != 0 filters out even numbers.\n",
    "- num**2 calculates the square of each odd number.\n",
    "- print(\"Squares of Odd Numbers between 1 and 10:\", squares_of_odd_numbers) Prints the result."
   ]
  },
  {
   "cell_type": "markdown",
   "id": "1816abfe-d73b-4312-9ac7-7f54e4278b40",
   "metadata": {},
   "source": [
    "### 28. Write a program that combines two lists into a dictionary using list comprehension."
   ]
  },
  {
   "cell_type": "code",
   "execution_count": 10,
   "id": "9d536dea-c0d8-434c-9e64-e598a3acb2ac",
   "metadata": {},
   "outputs": [
    {
     "name": "stdout",
     "output_type": "stream",
     "text": [
      "Combined Dictionary: {'name': 'Rajan', 'age': 20, 'city': 'Bhopal'}\n"
     ]
    }
   ],
   "source": [
    "# Sample lists\n",
    "keys = ['name', 'age', 'city']\n",
    "values = ['Rajan', 20, 'Bhopal']\n",
    "\n",
    "# Using list comprehension to combine lists into a dictionary\n",
    "combined_dict = {keys[i]: values[i] for i in range(min(len(keys), len(values)))}\n",
    "\n",
    "# Print the result\n",
    "print(\"Combined Dictionary:\", combined_dict)"
   ]
  },
  {
   "cell_type": "markdown",
   "id": "7655867c-82c0-4710-bfc0-3e400ada6101",
   "metadata": {},
   "source": [
    "- {keys[i]: values[i] for i in range(min(len(keys), len(values)))} Uses list comprehension to combine the two lists into a dictionary:\n",
    "- for i in range(min(len(keys), len(values))) iterates through the indices up to the minimum length of the two lists.\n",
    "- keys[i]: values[i] creates key-value pairs in the dictionary.\n",
    "- print(\"Combined Dictionary:\", combined_dict) Prints the result."
   ]
  },
  {
   "cell_type": "markdown",
   "id": "e2bdba11-cbad-4cf0-987f-2a679b2a1d82",
   "metadata": {},
   "source": [
    "### 29. Develop a program that extracts the vowels from a string and stores them in a list using list comprehension."
   ]
  },
  {
   "cell_type": "code",
   "execution_count": 12,
   "id": "896bfc7f-f706-4226-85d4-2e98d1e5531e",
   "metadata": {},
   "outputs": [
    {
     "name": "stdin",
     "output_type": "stream",
     "text": [
      "Enter a string:  Rajan\n"
     ]
    },
    {
     "name": "stdout",
     "output_type": "stream",
     "text": [
      "Original String: Rajan\n",
      "Vowels in the String: ['a', 'a']\n"
     ]
    }
   ],
   "source": [
    "# Function to check if a character is a vowel\n",
    "def is_vowel(char):\n",
    "    return char.lower() in ['a', 'e', 'i', 'o', 'u']\n",
    "\n",
    "# Input: String\n",
    "input_string = input(\"Enter a string: \")\n",
    "\n",
    "# Using list comprehension to extract vowels from the string\n",
    "vowels_list = [char for char in input_string if is_vowel(char)]\n",
    "\n",
    "# Print the result\n",
    "print(\"Original String:\", input_string)\n",
    "print(\"Vowels in the String:\", vowels_list)"
   ]
  },
  {
   "cell_type": "markdown",
   "id": "94ed7be4-38c4-40f9-9759-87ad1f977893",
   "metadata": {},
   "source": [
    "- def is_vowel(char): This line defines a function named is_vowel that checks if a character is a vowel.\n",
    "- return char.lower() in ['a', 'e', 'i', 'o', 'u'] Converts the character to lowercase and checks if it is in the list of vowels.\n",
    "- input_string = input(\"Enter a string: \") Takes user input for the string.\n",
    "- [char for char in input_string if is_vowel(char)] Uses list comprehension to extract vowels from the string:\n",
    "- for char in input_string iterates through each character in the input string.\n",
    "- if is_vowel(char) checks if the character is a vowel using the is_vowel function.\n",
    "- print(\"Original String:\", input_string) Prints the original input string.\n",
    "- print(\"Vowels in the String:\", vowels_list) Prints the list containing the extracted vowels."
   ]
  },
  {
   "cell_type": "markdown",
   "id": "8f7f13f7-d1f7-4870-be38-5e8a505f2f0f",
   "metadata": {},
   "source": [
    "### 30. Create a program that removes all non-numeric characters from a list of strings using list comprehension."
   ]
  },
  {
   "cell_type": "code",
   "execution_count": 15,
   "id": "089b0022-bd95-4391-b749-bab0d4ce0ff9",
   "metadata": {},
   "outputs": [
    {
     "name": "stdout",
     "output_type": "stream",
     "text": [
      "Original List of Strings: ['Raj123', '45kum', '6y7d8']\n",
      "Numeric Strings: ['123', '45', '678']\n"
     ]
    }
   ],
   "source": [
    "# Sample list of strings\n",
    "string_list = ['Raj123', '45kum', '6y7d8']\n",
    "\n",
    "# Using list comprehension to remove non-numeric characters\n",
    "numeric_strings = [''.join(char for char in string if char.isnumeric()) for string in string_list]\n",
    "\n",
    "# Print the result\n",
    "print(\"Original List of Strings:\", string_list)\n",
    "print(\"Numeric Strings:\", numeric_strings)"
   ]
  },
  {
   "cell_type": "markdown",
   "id": "6d873038-1b29-4312-ba4d-5826cc7b39b6",
   "metadata": {},
   "source": [
    "- [''.join(char for char in string if char.isnumeric()) for string in string_list] Uses list comprehension to create a new list of strings without non-numeric characters:\n",
    "- for string in string_list iterates through each string in the original list.\n",
    "- for char in string iterates through each character in the current string.\n",
    "- if char.isnumeric() checks if the character is numeric.\n",
    "- ''.join(...) joins the numeric characters back together into a string.\n",
    "- print(\"Original List of Strings:\", string_list) Prints the original list of strings.\n",
    "- print(\"Numeric Strings:\", numeric_strings) Prints the list containing strings without non-numeric characters."
   ]
  },
  {
   "cell_type": "markdown",
   "id": "86c8b954-48bf-4b4d-822d-2774f57571dd",
   "metadata": {},
   "source": [
    "### **Challenge Level:**"
   ]
  },
  {
   "cell_type": "markdown",
   "id": "f459e41b-95e8-4ef1-90f4-e2cc95ce536a",
   "metadata": {},
   "source": [
    "### 31. Write a program to generate a list of prime numbers using the Sieve of Eratosthenes algorithm and list comprehension."
   ]
  },
  {
   "cell_type": "code",
   "execution_count": 16,
   "id": "6177d802-541b-44b0-9d13-7cf08c9c3046",
   "metadata": {},
   "outputs": [
    {
     "name": "stdin",
     "output_type": "stream",
     "text": [
      "Enter the upper limit for prime numbers:  30\n"
     ]
    },
    {
     "name": "stdout",
     "output_type": "stream",
     "text": [
      "Prime numbers up to 30: [2, 3, 5, 7, 11, 13, 17, 19, 23, 29]\n"
     ]
    }
   ],
   "source": [
    "def sieve_of_eratosthenes(limit):\n",
    "    # Create a boolean list \"is_prime\" and initialize all elements to True\n",
    "    is_prime = [True] * (limit + 1)\n",
    "    \n",
    "    # 0 and 1 are not prime\n",
    "    is_prime[0] = is_prime[1] = False\n",
    "    \n",
    "    # Iterate through numbers from 2 to the square root of the limit\n",
    "    for num in range(2, int(limit**0.5) + 1):\n",
    "        if is_prime[num]:\n",
    "            # Mark multiples of the current prime number as non-prime\n",
    "            is_prime[num**2 : limit + 1 : num] = [False] * len(is_prime[num**2 : limit + 1 : num])\n",
    "\n",
    "    # Use list comprehension to create a list of prime numbers\n",
    "    primes = [num for num in range(2, limit + 1) if is_prime[num]]\n",
    "\n",
    "    return primes\n",
    "\n",
    "# Input: Upper limit for prime numbers\n",
    "upper_limit = int(input(\"Enter the upper limit for prime numbers: \"))\n",
    "\n",
    "# Call the function to generate the list of prime numbers\n",
    "prime_numbers = sieve_of_eratosthenes(upper_limit)\n",
    "\n",
    "# Print the result\n",
    "print(f\"Prime numbers up to {upper_limit}: {prime_numbers}\")"
   ]
  },
  {
   "cell_type": "markdown",
   "id": "b1ca39bf-7ee7-4c4e-a8b4-82fd4976445f",
   "metadata": {},
   "source": [
    "- def sieve_of_eratosthenes(limit):This line defines a function named sieve_of_eratosthenes that implements the Sieve of Eratosthenes algorithm to find prime numbers up to a given limit.\n",
    "- is_prime = [True] * (limit + 1) Initializes a boolean list is_prime with True values for each number up to the limit.\n",
    "- for num in range(2, int(limit**0.5) + 1): Iterates through numbers from 2 to the square root of the limit.\n",
    "- if is_prime[num]: Checks if the current number is marked as prime.\n",
    "- is_prime[num**2 : limit + 1 : num] = [False] * len(is_prime[num**2 : limit + 1 : num]) Marks multiples of the current prime number as non-prime.\n",
    "- primes = [num for num in range(2, limit + 1) if is_prime[num]] Uses list comprehension to create a list of prime numbers.\n",
    "- Takes user input for the upper limit. prime_numbers = sieve_of_eratosthenes(upper_limit) Calls the function to generate the list of prime numbers.\n",
    "- print(f\"Prime numbers up to {upper_limit}: {prime_numbers}\") Prints the result."
   ]
  },
  {
   "cell_type": "markdown",
   "id": "723cbe7d-976f-4f0e-8cf5-871c46a8cb11",
   "metadata": {},
   "source": [
    "### 32. Create a program that generates a list of all Pythagorean triplets up to a specified limit using list comprehension."
   ]
  },
  {
   "cell_type": "code",
   "execution_count": 17,
   "id": "9c821756-5a4e-48a9-8b83-2d9ea7013ce8",
   "metadata": {},
   "outputs": [
    {
     "name": "stdin",
     "output_type": "stream",
     "text": [
      "Enter the upper limit for Pythagorean triplets:  10\n"
     ]
    },
    {
     "name": "stdout",
     "output_type": "stream",
     "text": [
      "Pythagorean triplets up to 10: [(3, 4, 5), (6, 8, 10)]\n"
     ]
    }
   ],
   "source": [
    "# Function to check if a set of three numbers is a Pythagorean triplet\n",
    "def is_pythagorean_triplet(a, b, c):\n",
    "    return a**2 + b**2 == c**2\n",
    "\n",
    "# Input: Upper limit for Pythagorean triplets\n",
    "upper_limit = int(input(\"Enter the upper limit for Pythagorean triplets: \"))\n",
    "\n",
    "# Using list comprehension to generate a list of Pythagorean triplets\n",
    "pythagorean_triplets = [(a, b, c) for a in range(1, upper_limit + 1) for b in range(a, upper_limit + 1) for c in range(b, upper_limit + 1) if is_pythagorean_triplet(a, b, c)]\n",
    "\n",
    "# Print the result\n",
    "print(f\"Pythagorean triplets up to {upper_limit}: {pythagorean_triplets}\")"
   ]
  },
  {
   "cell_type": "markdown",
   "id": "99f7544e-7aef-4a1e-adbc-a268c9b94043",
   "metadata": {},
   "source": [
    "- def is_pythagorean_triplet(a, b, c): This line defines a function named is_pythagorean_triplet that checks if a set of three numbers is a Pythagorean triplet.\n",
    "- return a**2 + b**2 == c**2 Checks if the sum of the squares of the first two numbers is equal to the square of the third number.\n",
    "- upper_limit = int(input(\"Enter the upper limit for Pythagorean triplets: \")) Takes user input for the upper limit.\n",
    "[(a, b, c) for a in range(1, upper_limit + 1) for b in range(a, upper_limit + 1) for c in range(b, upper_limit + 1) if is_pythagorean_triplet(a, b, c)]\n",
    "\n",
    "- Uses list comprehension to generate a list of Pythagorean triplets:\n",
    "- for a in range(1, upper_limit + 1) iterates through the possible values of a.\n",
    "- for b in range(a, upper_limit + 1) iterates through the possible values of b (greater than or equal to a).\n",
    "- for c in range(b, upper_limit + 1) iterates through the possible values of c (greater than or equal to b).\n",
    "- if is_pythagorean_triplet(a, b, c) checks if the current set of numbers is a Pythagorean triplet.\n",
    "- print(f\"Pythagorean triplets up to {upper_limit}: {pythagorean_triplets}\") Prints the result."
   ]
  },
  {
   "cell_type": "markdown",
   "id": "a8e70f8d-ec31-4a44-b097-92cec9db351f",
   "metadata": {},
   "source": [
    "### 33. Develop a program that generates a list of all possible combinations of two lists using list comprehension."
   ]
  },
  {
   "cell_type": "code",
   "execution_count": 18,
   "id": "0d0f58d8-30c1-44fc-9bf0-763c9fa00b9d",
   "metadata": {},
   "outputs": [
    {
     "name": "stdout",
     "output_type": "stream",
     "text": [
      "List 1: [1, 2, 3]\n",
      "List 2: ['a', 'b', 'c']\n",
      "All Possible Combinations: [(1, 'a'), (1, 'b'), (1, 'c'), (2, 'a'), (2, 'b'), (2, 'c'), (3, 'a'), (3, 'b'), (3, 'c')]\n"
     ]
    }
   ],
   "source": [
    "# Sample lists\n",
    "list1 = [1, 2, 3]\n",
    "list2 = ['a', 'b', 'c']\n",
    "\n",
    "# Using list comprehension to generate all possible combinations\n",
    "combinations = [(x, y) for x in list1 for y in list2]\n",
    "\n",
    "# Print the result\n",
    "print(\"List 1:\", list1)\n",
    "print(\"List 2:\", list2)\n",
    "print(\"All Possible Combinations:\", combinations)"
   ]
  },
  {
   "cell_type": "markdown",
   "id": "005d892c-dfde-42e6-882e-cd8ca274c3b7",
   "metadata": {},
   "source": [
    "- [(x, y) for x in list1 for y in list2] Uses list comprehension to create a list of all possible combinations of elements from list1 and list2:\n",
    "- for x in list1 iterates through each element in list1.\n",
    "- for y in list2 iterates through each element in list2.\n",
    "- (x, y) creates a tuple representing a combination of an element from list1 and an element from list2.\n",
    "- print(\"List 1:\", list1) Prints the original content of list1.\n",
    "- print(\"List 2:\", list2) Prints the original content of list2.\n",
    "- print(\"All Possible Combinations:\", combinations) Prints the list containing all possible combinations."
   ]
  },
  {
   "cell_type": "markdown",
   "id": "17955b80-8240-4d26-b0ae-cc25086d7a9e",
   "metadata": {},
   "source": [
    "### 34. Write a program that calculates the mean, median, and mode of a list of numbers using list comprehension."
   ]
  },
  {
   "cell_type": "code",
   "execution_count": 1,
   "id": "836d8879-5ae2-4758-ae05-e51ce8744c54",
   "metadata": {},
   "outputs": [
    {
     "name": "stdout",
     "output_type": "stream",
     "text": [
      "List of Numbers: [3, 5, 2, 7, 5, 8, 2, 9, 4, 3]\n",
      "Mean: 4.8\n",
      "Median: 4.5\n",
      "Mode: 3\n"
     ]
    }
   ],
   "source": [
    "from statistics import mean, median, mode\n",
    "\n",
    "# Sample list of numbers\n",
    "numbers_list = [3, 5, 2, 7, 5, 8, 2, 9, 4, 3]\n",
    "\n",
    "# Calculate mean, median, and mode using list comprehension\n",
    "calculated_mean = mean(numbers_list)\n",
    "calculated_median = median(numbers_list)\n",
    "calculated_mode = mode(numbers_list)\n",
    "\n",
    "# Print the result\n",
    "print(\"List of Numbers:\", numbers_list)\n",
    "print(\"Mean:\", calculated_mean)\n",
    "print(\"Median:\", calculated_median)\n",
    "print(\"Mode:\", calculated_mode)"
   ]
  },
  {
   "cell_type": "markdown",
   "id": "761b4f38-798a-4f32-a472-d40669366257",
   "metadata": {},
   "source": [
    "- from statistics import mean, median, mode Imports the mean, median, and mode functions from the statistics module.\n",
    "- calculated_mean = mean(numbers_list) Calculates the mean of the list using the mean function.\n",
    "- calculated_median = median(numbers_list) Calculates the median of the list using the median function.\n",
    "- calculated_mode = mode(numbers_list) Calculates the mode of the list using the mode function.\n",
    "- print(\"List of Numbers:\", numbers_list) Prints the original list of numbers.\n",
    "- print(\"Mean:\", calculated_mean) Prints the calculated mean.\n",
    "- print(\"Median:\", calculated_median) Prints the calculated median.\n",
    "- print(\"Mode:\", calculated_mode) Prints the calculated mode."
   ]
  },
  {
   "cell_type": "markdown",
   "id": "6889c993-c3d1-4582-baf2-c5eef09fcd91",
   "metadata": {},
   "source": [
    "### 35. Create a program that generates Pascal's triangle up to a specified number of rows using list comprehension."
   ]
  },
  {
   "cell_type": "code",
   "execution_count": 2,
   "id": "baf0c43f-f809-49f7-95cb-e0071d48d84f",
   "metadata": {},
   "outputs": [
    {
     "name": "stdin",
     "output_type": "stream",
     "text": [
      "Enter the number of rows for Pascal's triangle:  5\n"
     ]
    },
    {
     "name": "stdout",
     "output_type": "stream",
     "text": [
      "Pascal's Triangle with 5 rows:\n",
      "[1]\n",
      "[1, 1]\n",
      "[1, 2, 1]\n",
      "[1, 3, 3, 1]\n",
      "[1, 4, 6, 4, 1]\n"
     ]
    }
   ],
   "source": [
    "# Function to generate Pascal's triangle up to a specified number of rows\n",
    "def generate_pascals_triangle(rows):\n",
    "    triangle = [[1] * (row + 1) for row in range(rows)]\n",
    "    \n",
    "    for row in range(2, rows):\n",
    "        for col in range(1, row):\n",
    "            triangle[row][col] = triangle[row - 1][col - 1] + triangle[row - 1][col]\n",
    "\n",
    "    return triangle\n",
    "\n",
    "# Input: Number of rows for Pascal's triangle\n",
    "num_rows = int(input(\"Enter the number of rows for Pascal's triangle: \"))\n",
    "\n",
    "# Call the function to generate Pascal's triangle\n",
    "pascals_triangle = generate_pascals_triangle(num_rows)\n",
    "\n",
    "# Print the result\n",
    "print(f\"Pascal's Triangle with {num_rows} rows:\")\n",
    "for row in pascals_triangle:\n",
    "    print(row)"
   ]
  },
  {
   "cell_type": "markdown",
   "id": "0b517865-dfe4-43b5-b7a0-a5802d5da282",
   "metadata": {},
   "source": [
    "- def generate_pascals_triangle(rows): This line defines a function named generate_pascals_triangle that generates Pascal's triangle up to a specified number of rows.\n",
    "- triangle = [[1] * (row + 1) for row in range(rows)] Initializes the triangle with all elements set to 1 for each row.\n",
    "- for row in range(2, rows): Iterates through rows starting from the third row (index 2).\n",
    "- for col in range(1, row): Iterates through columns, excluding the first and last columns.\n",
    "- triangle[row][col] = triangle[row - 1][col - 1] + triangle[row - 1][col] Calculates each element as the sum of the two elements directly above it.\n",
    "- pascals_triangle = generate_pascals_triangle(num_rows) Calls the function to generate Pascal's triangle.\n",
    "- for row in pascals_triangle: Iterates through each row of Pascal's triangle.\n",
    "- print(row) Prints each row."
   ]
  },
  {
   "cell_type": "markdown",
   "id": "312df346-2681-43c9-a77c-cc5b3e81f9ee",
   "metadata": {},
   "source": [
    "### 36. Develop a program that calculates the sum of the digits of a factorial of numbers from 1 to 5 using list comprehension."
   ]
  },
  {
   "cell_type": "code",
   "execution_count": 3,
   "id": "8982734e-9c73-49ca-bda5-860856e7f4ca",
   "metadata": {},
   "outputs": [
    {
     "name": "stdout",
     "output_type": "stream",
     "text": [
      "Factorials from 1 to 5: [1, 2, 6, 24, 120]\n",
      "Sum of Digits for Factorials: [1, 2, 6, 6, 3]\n"
     ]
    }
   ],
   "source": [
    "# Function to calculate the factorial of a number\n",
    "def factorial(n):\n",
    "    return 1 if n == 0 or n == 1 else n * factorial(n - 1)\n",
    "\n",
    "# Using list comprehension to calculate the sum of digits for factorials from 1 to 5\n",
    "sums_of_digits = [sum(int(digit) for digit in str(factorial(num))) for num in range(1, 6)]\n",
    "\n",
    "# Print the result\n",
    "print(\"Factorials from 1 to 5:\", [factorial(num) for num in range(1, 6)])\n",
    "print(\"Sum of Digits for Factorials:\", sums_of_digits)"
   ]
  },
  {
   "cell_type": "markdown",
   "id": "0a867428-1483-4f0b-8f12-4f893ebc1311",
   "metadata": {},
   "source": [
    "- def factorial(n): This line defines a function named factorial that calculates the factorial of a number.\n",
    "- return 1 if n == 0 or n == 1 else n * factorial(n - 1) Implements the factorial calculation using recursion.\n",
    "- sums_of_digits = [sum(int(digit) for digit in str(factorial(num))) for num in range(1, 6)] Uses list comprehension to calculate the sum of digits for factorials from 1 to 5:\n",
    "- for num in range(1, 6) iterates through numbers from 1 to 5.\n",
    "- str(factorial(num)) converts the factorial result to a string.\n",
    "- int(digit) converts each digit in the string back to an integer.\n",
    "- sum(...) calculates the sum of digits for each factorial.\n",
    "- print(\"Factorials from 1 to 5:\", [factorial(num) for num in range(1, 6)]) Prints the factorials for numbers from 1 to 5.\n",
    "- print(\"Sum of Digits for Factorials:\", sums_of_digits) Prints the list containing the sum of digits for each factorial."
   ]
  },
  {
   "cell_type": "markdown",
   "id": "d4071004-db85-43af-8623-da8121777845",
   "metadata": {},
   "source": [
    "### 37. Write a program that finds the longest word in a sentence using list comprehension."
   ]
  },
  {
   "cell_type": "code",
   "execution_count": 5,
   "id": "2384a591-b90c-480c-9bd6-df3e82b14037",
   "metadata": {},
   "outputs": [
    {
     "name": "stdin",
     "output_type": "stream",
     "text": [
      "Enter a sentence:  I'm Rajan Kumar.\n"
     ]
    },
    {
     "name": "stdout",
     "output_type": "stream",
     "text": [
      "Longest Word in the Sentence: Rajan\n"
     ]
    }
   ],
   "source": [
    "# Input: Sentence\n",
    "sentence = input(\"Enter a sentence: \")\n",
    "\n",
    "# Using list comprehension to find the longest word in the sentence\n",
    "longest_word = max([word.strip(\".,?!\") for word in sentence.split()], key=len)\n",
    "\n",
    "# Print the result\n",
    "print(\"Longest Word in the Sentence:\", longest_word)"
   ]
  },
  {
   "cell_type": "markdown",
   "id": "a0c37d2b-63e6-4a5e-aa55-43892fed80d7",
   "metadata": {},
   "source": [
    "- sentence = input(\"Enter a sentence: \") Takes user input for the sentence.\n",
    "- [word.strip(\".,?!\") for word in sentence.split()] Uses list comprehension to create a list of words by splitting the sentence.\n",
    "- for word in sentence.split() iterates through each word in the sentence word.strip(\".,?!\") removes punctuation from each word.\n",
    "- max(..., key=len) Finds the element with the maximum length in the list of words.\n",
    "- print(\"Longest Word in the Sentence:\", longest_word) Prints the longest word found."
   ]
  },
  {
   "cell_type": "markdown",
   "id": "ceed32fc-99b5-4a30-a62f-f12dc66f0b05",
   "metadata": {},
   "source": [
    "### 38. Create a program that filters a list of strings to include only those with more than three vowels using list comprehension."
   ]
  },
  {
   "cell_type": "code",
   "execution_count": 6,
   "id": "ceb04d6b-6185-4bf6-a3ba-3eb9e28630f6",
   "metadata": {},
   "outputs": [
    {
     "name": "stdout",
     "output_type": "stream",
     "text": [
      "Original List of Strings: ['hello', 'world', 'python', 'programming', 'ai']\n",
      "Filtered Strings with More than Three Vowels: []\n"
     ]
    }
   ],
   "source": [
    "# Function to count vowels in a string\n",
    "def count_vowels(string):\n",
    "    return sum(1 for char in string.lower() if char in 'aeiou')\n",
    "\n",
    "# Sample list of strings\n",
    "string_list = [\"hello\", \"world\", \"python\", \"programming\", \"ai\"]\n",
    "\n",
    "# Using list comprehension to filter strings with more than three vowels\n",
    "filtered_strings = [string for string in string_list if count_vowels(string) > 3]\n",
    "\n",
    "# Print the result\n",
    "print(\"Original List of Strings:\", string_list)\n",
    "print(\"Filtered Strings with More than Three Vowels:\", filtered_strings)"
   ]
  },
  {
   "cell_type": "markdown",
   "id": "a82d3d32-b16a-4e98-932a-ff10ea6dd85b",
   "metadata": {},
   "source": [
    "- def count_vowels(string): This line defines a function named count_vowels that counts the number of vowels in a string.\n",
    "- (1 for char in string.lower() if char in 'aeiou') Calculates the count of vowels in the string, irrespective of case.\n",
    "- string_list = [\"hello\", \"world\", \"python\", \"programming\", \"ai\"] Initializes a sample list of strings.\n",
    "- [string for string in string_list if count_vowels(string) > 3] Uses list comprehension to filter strings with more than three vowels:\n",
    "- for string in string_list iterates through each string in the list if count_vowels(string) > 3 checks if the count of vowels in the string is greater than 3.\n",
    "- print(\"Original List of Strings:\", string_list) Prints the original list of strings.\n",
    "- print(\"Filtered Strings with More than Three Vowels:\", filtered_strings) Prints the list containing strings with more than three vowels."
   ]
  },
  {
   "cell_type": "markdown",
   "id": "4cbdc001-4abb-4c6e-b948-eca5071da8e8",
   "metadata": {},
   "source": [
    "### 39. Develop a program that calculates the sum of the digits of numbers from 1 to 1000 using list comprehension."
   ]
  },
  {
   "cell_type": "code",
   "execution_count": 7,
   "id": "15c6b15e-3617-49b1-8da4-a185e293c230",
   "metadata": {},
   "outputs": [
    {
     "name": "stdout",
     "output_type": "stream",
     "text": [
      "Sum of Digits for Numbers from 1 to 1000: [1, 2, 3, 4, 5, 6, 7, 8, 9, 1, 2, 3, 4, 5, 6, 7, 8, 9, 10, 2, 3, 4, 5, 6, 7, 8, 9, 10, 11, 3, 4, 5, 6, 7, 8, 9, 10, 11, 12, 4, 5, 6, 7, 8, 9, 10, 11, 12, 13, 5, 6, 7, 8, 9, 10, 11, 12, 13, 14, 6, 7, 8, 9, 10, 11, 12, 13, 14, 15, 7, 8, 9, 10, 11, 12, 13, 14, 15, 16, 8, 9, 10, 11, 12, 13, 14, 15, 16, 17, 9, 10, 11, 12, 13, 14, 15, 16, 17, 18, 1, 2, 3, 4, 5, 6, 7, 8, 9, 10, 2, 3, 4, 5, 6, 7, 8, 9, 10, 11, 3, 4, 5, 6, 7, 8, 9, 10, 11, 12, 4, 5, 6, 7, 8, 9, 10, 11, 12, 13, 5, 6, 7, 8, 9, 10, 11, 12, 13, 14, 6, 7, 8, 9, 10, 11, 12, 13, 14, 15, 7, 8, 9, 10, 11, 12, 13, 14, 15, 16, 8, 9, 10, 11, 12, 13, 14, 15, 16, 17, 9, 10, 11, 12, 13, 14, 15, 16, 17, 18, 10, 11, 12, 13, 14, 15, 16, 17, 18, 19, 2, 3, 4, 5, 6, 7, 8, 9, 10, 11, 3, 4, 5, 6, 7, 8, 9, 10, 11, 12, 4, 5, 6, 7, 8, 9, 10, 11, 12, 13, 5, 6, 7, 8, 9, 10, 11, 12, 13, 14, 6, 7, 8, 9, 10, 11, 12, 13, 14, 15, 7, 8, 9, 10, 11, 12, 13, 14, 15, 16, 8, 9, 10, 11, 12, 13, 14, 15, 16, 17, 9, 10, 11, 12, 13, 14, 15, 16, 17, 18, 10, 11, 12, 13, 14, 15, 16, 17, 18, 19, 11, 12, 13, 14, 15, 16, 17, 18, 19, 20, 3, 4, 5, 6, 7, 8, 9, 10, 11, 12, 4, 5, 6, 7, 8, 9, 10, 11, 12, 13, 5, 6, 7, 8, 9, 10, 11, 12, 13, 14, 6, 7, 8, 9, 10, 11, 12, 13, 14, 15, 7, 8, 9, 10, 11, 12, 13, 14, 15, 16, 8, 9, 10, 11, 12, 13, 14, 15, 16, 17, 9, 10, 11, 12, 13, 14, 15, 16, 17, 18, 10, 11, 12, 13, 14, 15, 16, 17, 18, 19, 11, 12, 13, 14, 15, 16, 17, 18, 19, 20, 12, 13, 14, 15, 16, 17, 18, 19, 20, 21, 4, 5, 6, 7, 8, 9, 10, 11, 12, 13, 5, 6, 7, 8, 9, 10, 11, 12, 13, 14, 6, 7, 8, 9, 10, 11, 12, 13, 14, 15, 7, 8, 9, 10, 11, 12, 13, 14, 15, 16, 8, 9, 10, 11, 12, 13, 14, 15, 16, 17, 9, 10, 11, 12, 13, 14, 15, 16, 17, 18, 10, 11, 12, 13, 14, 15, 16, 17, 18, 19, 11, 12, 13, 14, 15, 16, 17, 18, 19, 20, 12, 13, 14, 15, 16, 17, 18, 19, 20, 21, 13, 14, 15, 16, 17, 18, 19, 20, 21, 22, 5, 6, 7, 8, 9, 10, 11, 12, 13, 14, 6, 7, 8, 9, 10, 11, 12, 13, 14, 15, 7, 8, 9, 10, 11, 12, 13, 14, 15, 16, 8, 9, 10, 11, 12, 13, 14, 15, 16, 17, 9, 10, 11, 12, 13, 14, 15, 16, 17, 18, 10, 11, 12, 13, 14, 15, 16, 17, 18, 19, 11, 12, 13, 14, 15, 16, 17, 18, 19, 20, 12, 13, 14, 15, 16, 17, 18, 19, 20, 21, 13, 14, 15, 16, 17, 18, 19, 20, 21, 22, 14, 15, 16, 17, 18, 19, 20, 21, 22, 23, 6, 7, 8, 9, 10, 11, 12, 13, 14, 15, 7, 8, 9, 10, 11, 12, 13, 14, 15, 16, 8, 9, 10, 11, 12, 13, 14, 15, 16, 17, 9, 10, 11, 12, 13, 14, 15, 16, 17, 18, 10, 11, 12, 13, 14, 15, 16, 17, 18, 19, 11, 12, 13, 14, 15, 16, 17, 18, 19, 20, 12, 13, 14, 15, 16, 17, 18, 19, 20, 21, 13, 14, 15, 16, 17, 18, 19, 20, 21, 22, 14, 15, 16, 17, 18, 19, 20, 21, 22, 23, 15, 16, 17, 18, 19, 20, 21, 22, 23, 24, 7, 8, 9, 10, 11, 12, 13, 14, 15, 16, 8, 9, 10, 11, 12, 13, 14, 15, 16, 17, 9, 10, 11, 12, 13, 14, 15, 16, 17, 18, 10, 11, 12, 13, 14, 15, 16, 17, 18, 19, 11, 12, 13, 14, 15, 16, 17, 18, 19, 20, 12, 13, 14, 15, 16, 17, 18, 19, 20, 21, 13, 14, 15, 16, 17, 18, 19, 20, 21, 22, 14, 15, 16, 17, 18, 19, 20, 21, 22, 23, 15, 16, 17, 18, 19, 20, 21, 22, 23, 24, 16, 17, 18, 19, 20, 21, 22, 23, 24, 25, 8, 9, 10, 11, 12, 13, 14, 15, 16, 17, 9, 10, 11, 12, 13, 14, 15, 16, 17, 18, 10, 11, 12, 13, 14, 15, 16, 17, 18, 19, 11, 12, 13, 14, 15, 16, 17, 18, 19, 20, 12, 13, 14, 15, 16, 17, 18, 19, 20, 21, 13, 14, 15, 16, 17, 18, 19, 20, 21, 22, 14, 15, 16, 17, 18, 19, 20, 21, 22, 23, 15, 16, 17, 18, 19, 20, 21, 22, 23, 24, 16, 17, 18, 19, 20, 21, 22, 23, 24, 25, 17, 18, 19, 20, 21, 22, 23, 24, 25, 26, 9, 10, 11, 12, 13, 14, 15, 16, 17, 18, 10, 11, 12, 13, 14, 15, 16, 17, 18, 19, 11, 12, 13, 14, 15, 16, 17, 18, 19, 20, 12, 13, 14, 15, 16, 17, 18, 19, 20, 21, 13, 14, 15, 16, 17, 18, 19, 20, 21, 22, 14, 15, 16, 17, 18, 19, 20, 21, 22, 23, 15, 16, 17, 18, 19, 20, 21, 22, 23, 24, 16, 17, 18, 19, 20, 21, 22, 23, 24, 25, 17, 18, 19, 20, 21, 22, 23, 24, 25, 26, 18, 19, 20, 21, 22, 23, 24, 25, 26, 27, 1]\n"
     ]
    }
   ],
   "source": [
    "# Using list comprehension to calculate the sum of digits for numbers from 1 to 1000\n",
    "sums_of_digits = [sum(int(digit) for digit in str(num)) for num in range(1, 1001)]\n",
    "\n",
    "# Print the result\n",
    "print(\"Sum of Digits for Numbers from 1 to 1000:\", sums_of_digits)"
   ]
  },
  {
   "cell_type": "markdown",
   "id": "6aa739a4-24d9-48c7-8ae2-bb4a24bbb3ee",
   "metadata": {},
   "source": [
    "- [sum(int(digit) for digit in str(num)) for num in range(1, 1001)] Uses list comprehension to calculate the sum of digits for numbers from 1 to 1000:\n",
    "- for num in range(1, 1001) iterates through numbers from 1 to 1000.\n",
    "- str(num) converts each number to a string.\n",
    "- int(digit) converts each digit in the string back to an integer.\n",
    "- sum(...) calculates the sum of digits for each number.\n",
    "- print(\"Sum of Digits for Numbers from 1 to 1000:\", sums_of_digits) Prints the list containing the sum of digits for each number."
   ]
  },
  {
   "cell_type": "markdown",
   "id": "4a669155-ddc6-45cb-b727-cb41065dc3c2",
   "metadata": {},
   "source": [
    "### 40. Write a program that generates a list of prime palindromic numbers using list comprehension."
   ]
  },
  {
   "cell_type": "code",
   "execution_count": 8,
   "id": "25d89541-cafd-4ec1-b376-4543fa2c184c",
   "metadata": {},
   "outputs": [
    {
     "name": "stdout",
     "output_type": "stream",
     "text": [
      "Prime Palindromic Numbers: [2, 3, 5, 7, 11, 101, 131, 151, 181, 191, 313, 353, 373, 383, 727, 757, 787, 797, 919, 929]\n"
     ]
    }
   ],
   "source": [
    "# Function to check if a number is prime\n",
    "def is_prime(num):\n",
    "    if num < 2:\n",
    "        return False\n",
    "    for i in range(2, int(num**0.5) + 1):\n",
    "        if num % i == 0:\n",
    "            return False\n",
    "    return True\n",
    "\n",
    "# Function to check if a number is palindromic\n",
    "def is_palindromic(num):\n",
    "    return str(num) == str(num)[::-1]\n",
    "\n",
    "# Using list comprehension to generate a list of prime palindromic numbers\n",
    "prime_palindromes = [num for num in range(1, 1000) if is_prime(num) and is_palindromic(num)]\n",
    "\n",
    "# Print the result\n",
    "print(\"Prime Palindromic Numbers:\", prime_palindromes)"
   ]
  },
  {
   "cell_type": "markdown",
   "id": "1fcae5b8-3b17-47ad-94c4-57a8687b15a6",
   "metadata": {},
   "source": [
    "- def is_prime(num): This line defines a function named is_prime that checks if a number is prime.\n",
    "- def is_palindromic(num): This line defines a function named is_palindromic that checks if a number is palindromic.\n",
    "- [num for num in range(1, 1000) if is_prime(num) and is_palindromic(num)] Uses list comprehension to generate a list of prime palindromic numbers:\n",
    "- for num in range(1, 1000) iterates through numbers from 1 to 999.\n",
    "- if is_prime(num) and is_palindromic(num) checks if the number is both prime and palindromic.\n",
    "- print(\"Prime Palindromic Numbers:\", prime_palindromes) Prints the list containing prime palindromic numbers."
   ]
  },
  {
   "cell_type": "code",
   "execution_count": null,
   "id": "f83b323c-f589-45c0-8144-3398bf228545",
   "metadata": {},
   "outputs": [],
   "source": []
  }
 ],
 "metadata": {
  "kernelspec": {
   "display_name": "Python 3 (ipykernel)",
   "language": "python",
   "name": "python3"
  },
  "language_info": {
   "codemirror_mode": {
    "name": "ipython",
    "version": 3
   },
   "file_extension": ".py",
   "mimetype": "text/x-python",
   "name": "python",
   "nbconvert_exporter": "python",
   "pygments_lexer": "ipython3",
   "version": "3.10.8"
  }
 },
 "nbformat": 4,
 "nbformat_minor": 5
}
